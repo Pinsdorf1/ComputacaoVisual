{
 "cells": [
  {
   "attachments": {},
   "cell_type": "markdown",
   "metadata": {},
   "source": [
    "# **Projeto Computação Visual**\n",
    "*Nicolas Pinsdorf TIA:32036108*"
   ]
  },
  {
   "cell_type": "code",
   "execution_count": null,
   "metadata": {},
   "outputs": [],
   "source": [
    "# Código para identificar rostos por imagem\n",
    "import cv2\n",
    "\n",
    "# Carregar o classificador Haar Cascade pré-treinado para detecção de rosto humano\n",
    "face_cascade = cv2.CascadeClassifier('haarcascade_frontalface_default.xml')\n",
    "\n",
    "# Carregar a imagem PNG\n",
    "img = cv2.imread('asd.jpeg')\n",
    "\n",
    "# Converter a imagem para escala de cinza para processamento mais fácil\n",
    "gray = cv2.cvtColor(img, cv2.COLOR_BGR2GRAY)\n",
    "\n",
    "# Detectar faces na imagem usando o Haar Cascade\n",
    "faces = face_cascade.detectMultiScale(gray, scaleFactor=1.1, minNeighbors=5)\n",
    "\n",
    "# Desenhar um retângulo ao redor da(s) face(s) detectada(s)\n",
    "for (x, y, w, h) in faces:\n",
    "    cv2.rectangle(img, (x, y), (x+w, y+h), (0, 255, 0), 2)\n",
    "\n",
    "# Exibir a imagem com as faces detectadas\n",
    "cv2.imshow('Imagem com detecção de face', img)\n",
    "cv2.waitKey(0)\n",
    "cv2.destroyAllWindows()\n"
   ]
  },
  {
   "cell_type": "code",
   "execution_count": null,
   "metadata": {},
   "outputs": [],
   "source": [
    "# Código para identificar rostos pela camera\n",
    "import cv2\n",
    "\n",
    "# carrega o classificador Haar Cascade para detecção de faces\n",
    "face_cascade = cv2.CascadeClassifier('haarcascade_frontalface_default.xml')\n",
    "\n",
    "# abre a câmera\n",
    "cap = cv2.VideoCapture(0)\n",
    "\n",
    "while True:\n",
    "    # lê um frame da câmera\n",
    "    ret, frame = cap.read()\n",
    "\n",
    "    # converte o frame para escala de cinza\n",
    "    gray = cv2.cvtColor(frame, cv2.COLOR_BGR2GRAY)\n",
    "\n",
    "    # detecta faces no frame\n",
    "    faces = face_cascade.detectMultiScale(gray, scaleFactor=1.1, minNeighbors=5, minSize=(30, 30))\n",
    "\n",
    "    # desenha um retângulo em volta de cada face detectada\n",
    "    for (x, y, w, h) in faces:\n",
    "        cv2.rectangle(frame, (x, y), (x + w, y + h), (0, 255, 0), 2)\n",
    "\n",
    "    # exibe o frame com as faces detectadas\n",
    "    cv2.imshow('Detecção de Faces', frame)\n",
    "\n",
    "    # espera pela tecla 'q' ser pressionada para sair do loop\n",
    "    if cv2.waitKey(1) & 0xFF == ord('q'):\n",
    "        break\n",
    "\n",
    "# libera a câmera e fecha a janela\n",
    "cap.release()\n",
    "cv2.destroyAllWindows()\n"
   ]
  },
  {
   "cell_type": "code",
   "execution_count": null,
   "metadata": {},
   "outputs": [],
   "source": [
    "# projeto para identificar gatos por imagens\n",
    "import cv2\n",
    "\n",
    "# carrega o classificador Haar Cascade para gatos\n",
    "cat_cascade = cv2.CascadeClassifier('haarcascade_frontalcatface.xml')\n",
    "\n",
    "# carrega a imagem em escala de cinza\n",
    "img = cv2.imread('asd.jpg')\n",
    "gray = cv2.cvtColor(img, cv2.COLOR_BGR2GRAY)\n",
    "\n",
    "# detecta gatos na imagem\n",
    "cats = cat_cascade.detectMultiScale(gray, scaleFactor=1.1, minNeighbors=5, minSize=(30, 30))\n",
    "\n",
    "# desenha um retângulo em volta de cada gato detectado\n",
    "for (x, y, w, h) in cats:\n",
    "    cv2.rectangle(img, (x, y), (x + w, y + h), (0, 255, 0), 2)\n",
    "\n",
    "# exibe a imagem com os retângulos desenhados\n",
    "cv2.imshow('Gatos Detectados', img)\n",
    "cv2.waitKey(0)\n",
    "cv2.destroyAllWindows()\n"
   ]
  },
  {
   "attachments": {},
   "cell_type": "markdown",
   "metadata": {},
   "source": [
    "### Explicar o como a função do openCV funciona por trás, como é identificado rostos, pelos olhos...\n",
    " "
   ]
  },
  {
   "cell_type": "markdown",
   "metadata": {},
   "source": [
    "## **Transformada de Fourier (FT) e filtros no domínio da frequência com `NumPy`**\n",
    "\n",
    "Nesta semana, usaremos a biblioteca `NumPy` para realizar a Transformada de Fourier (FT) em imagens, aplicar filtros no domínio da frequência e realizar a Transformada Inversa de Fourier.\n",
    "\n",
    "O `NumPy` possui um módulo chamado `FFT` para realizar operações envolvendo a Transformada de Fourier (FFT = *Fast Fourier Transform*).\n",
    "\n",
    "A função `np.fft.fft2()` é usada para fazer a transformação de uma imagem, do domínio espacial para o domínio da frequência. Geralmente, a FT de uma função real é um valor complexo (possui componente real e imaginário). Assim, o retorno de `np.fft.fft2()` é um array do tipo `complex` (real + imag*1j).\n",
    "\n",
    "Para visualização, trabalhamos com a magnitude (abs) da FT, sendo que temos o espectro da frequência ou espectro de Fourier e o ângulo de fase.\n",
    "\n",
    "No caso de imagens, a versão 2D da Transformada Discreta de Fourier (DFT = *Discrete Fourier Transform*) é usada para encontrar o domínio da frequência. Internamente, as bibliotecas implementam a DFT com FFT, por ser um algoritmo mais eficiente e rápido - DFT O(n^2) vs FFT O(n log n)."
   ]
  }
 ],
 "metadata": {
  "anaconda-cloud": {},
  "colab": {
   "name": "03-Filtros-Frequencia-scikit-image-para-alunos.ipynb",
   "provenance": []
  },
  "interpreter": {
   "hash": "81794d4967e6c3204c66dcd87b604927b115b27c00565d3d43f05ba2f3a2cb0d"
  },
  "kernelspec": {
   "display_name": "Python 3 (ipykernel)",
   "language": "python",
   "name": "python3"
  },
  "language_info": {
   "codemirror_mode": {
    "name": "ipython",
    "version": 3
   },
   "file_extension": ".py",
   "mimetype": "text/x-python",
   "name": "python",
   "nbconvert_exporter": "python",
   "pygments_lexer": "ipython3",
   "version": "3.11.0"
  }
 },
 "nbformat": 4,
 "nbformat_minor": 2
}
