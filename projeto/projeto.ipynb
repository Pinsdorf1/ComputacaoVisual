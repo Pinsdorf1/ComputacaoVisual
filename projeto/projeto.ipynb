{
 "cells": [
  {
   "attachments": {},
   "cell_type": "markdown",
   "metadata": {},
   "source": [
    "# **Projeto Computação Visual**\n",
    "*Nicolas Pinsdorf TIA:32036108*"
   ]
  },
  {
   "cell_type": "code",
   "execution_count": 6,
   "metadata": {},
   "outputs": [],
   "source": [
    "# Código para identificar rostos por imagem\n",
    "import cv2\n",
    "\n",
    "# Carregar o classificador Haar Cascade pré-treinado para detecção de rosto humano\n",
    "face_cascade = cv2.CascadeClassifier('xml\\haarcascade_frontalcatface.xml')\n",
    "\n",
    "# Carregar a imagem PNG\n",
    "img = cv2.imread('imagens\\imagemGato1.jpg')\n",
    "\n",
    "# Converter a imagem para escala de cinza para processamento mais fácil\n",
    "gray = cv2.cvtColor(img, cv2.COLOR_BGR2GRAY)\n",
    "\n",
    "# Detectar faces na imagem usando o Haar Cascade\n",
    "faces = face_cascade.detectMultiScale(gray, scaleFactor=1.1, minNeighbors=5)\n",
    "\n",
    "# Desenhar um retângulo ao redor da(s) face(s) detectada(s)\n",
    "for (x, y, w, h) in faces:\n",
    "    cv2.rectangle(img, (x, y), (x+w, y+h), (0, 255, 0), 2)\n",
    "\n",
    "# Exibir a imagem com as faces detectadas\n",
    "cv2.imshow('Imagem com detecção de face', img)\n",
    "cv2.waitKey(0)\n",
    "cv2.destroyAllWindows()\n"
   ]
  },
  {
   "attachments": {},
   "cell_type": "markdown",
   "metadata": {},
   "source": [
    "## Identificando Objetos\n",
    "\n",
    "O método detectMultiScale é usado para detectar objetos em uma imagem em escala de cinza. Ele retorna uma lista de retângulos que representam as posições das faces detectadas. Os parâmetros scaleFactor, minNeighbors e minSize ajustam os parâmetros de detecção, como a taxa de escala, o número mínimo de vizinhos requeridos e o tamanho mínimo da face."
   ]
  },
  {
   "cell_type": "code",
   "execution_count": null,
   "metadata": {},
   "outputs": [],
   "source": [
    "# Código para identificar rostos pela camera\n",
    "import cv2\n",
    "\n",
    "# carrega o classificador Haar Cascade para detecção de faces\n",
    "face_cascade = cv2.CascadeClassifier('haarcascade_frontalface_default.xml')\n",
    "\n",
    "# abre a câmera\n",
    "cap = cv2.VideoCapture(0)\n",
    "\n",
    "while True:\n",
    "    # lê um frame da câmera\n",
    "    ret, frame = cap.read()\n",
    "\n",
    "    # converte o frame para escala de cinza\n",
    "    gray = cv2.cvtColor(frame, cv2.COLOR_BGR2GRAY)\n",
    "\n",
    "    # detecta faces no frame\n",
    "    faces = face_cascade.detectMultiScale(gray, scaleFactor=1.1, minNeighbors=5, minSize=(30, 30))\n",
    "\n",
    "    # desenha um retângulo em volta de cada face detectada\n",
    "    for (x, y, w, h) in faces:\n",
    "        cv2.rectangle(frame, (x, y), (x + w, y + h), (0, 255, 0), 2)\n",
    "\n",
    "    # exibe o frame com as faces detectadas\n",
    "    cv2.imshow('Detecção de Faces', frame)\n",
    "\n",
    "    # espera pela tecla 'q' ser pressionada para sair do loop\n",
    "    if cv2.waitKey(1) & 0xFF == ord('q'):\n",
    "        break\n",
    "\n",
    "# libera a câmera e fecha a janela\n",
    "cap.release()\n",
    "cv2.destroyAllWindows()\n"
   ]
  },
  {
   "cell_type": "code",
   "execution_count": null,
   "metadata": {},
   "outputs": [],
   "source": [
    "# projeto para identificar gatos por imagens\n",
    "import cv2\n",
    "\n",
    "# carrega o classificador Haar Cascade para gatos\n",
    "cat_cascade = cv2.CascadeClassifier('haarcascade_frontalcatface.xml')\n",
    "\n",
    "# carrega a imagem em escala de cinza\n",
    "img = cv2.imread('asd.jpg')\n",
    "gray = cv2.cvtColor(img, cv2.COLOR_BGR2GRAY)\n",
    "\n",
    "# detecta gatos na imagem\n",
    "cats = cat_cascade.detectMultiScale(gray, scaleFactor=1.1, minNeighbors=5, minSize=(30, 30))\n",
    "\n",
    "# desenha um retângulo em volta de cada gato detectado\n",
    "for (x, y, w, h) in cats:\n",
    "    cv2.rectangle(img, (x, y), (x + w, y + h), (0, 255, 0), 2)\n",
    "\n",
    "# exibe a imagem com os retângulos desenhados\n",
    "cv2.imshow('Gatos Detectados', img)\n",
    "cv2.waitKey(0)\n",
    "cv2.destroyAllWindows()\n"
   ]
  }
 ],
 "metadata": {
  "anaconda-cloud": {},
  "colab": {
   "name": "03-Filtros-Frequencia-scikit-image-para-alunos.ipynb",
   "provenance": []
  },
  "interpreter": {
   "hash": "81794d4967e6c3204c66dcd87b604927b115b27c00565d3d43f05ba2f3a2cb0d"
  },
  "kernelspec": {
   "display_name": "Python 3 (ipykernel)",
   "language": "python",
   "name": "python3"
  },
  "language_info": {
   "codemirror_mode": {
    "name": "ipython",
    "version": 3
   },
   "file_extension": ".py",
   "mimetype": "text/x-python",
   "name": "python",
   "nbconvert_exporter": "python",
   "pygments_lexer": "ipython3",
   "version": "3.11.0"
  }
 },
 "nbformat": 4,
 "nbformat_minor": 2
}
