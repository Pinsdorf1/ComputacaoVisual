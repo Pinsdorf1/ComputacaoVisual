{
 "cells": [
  {
   "attachments": {},
   "cell_type": "markdown",
   "metadata": {},
   "source": [
    "# **Projeto Computação Visual**\n",
    "*Nicolas Pinsdorf TIA:32036108*"
   ]
  },
  {
   "attachments": {},
   "cell_type": "markdown",
   "metadata": {},
   "source": [
    "## Identificando de faces \n",
    "\n",
    "Para identificação de faces usando python primeiro precisamos seguir alguns passos:\n",
    "1- Transformar imagem em tons de cinza:\n",
    "    Nesse passo transformamos a nossa imagem para tons de cinza pois isso simplifica o processamento e o python trata de for a mais eficiente imagens em tons de cinza\n",
    "2- Ler a extensão\n",
    "    O classificador Haar é um arquivo XML treinado para identificar rostos, nesse arquivo contém informações sobre as características visuais de um rosto. O XML contem vários classificadores que identificam partes do rosto como olhos, nariz e boca todo esses classificadores trabalham juntos para identificar um rosto em uma imagem.\n",
    "3- Algoritimo de detecção\n",
    "    O algoritmo de detecção de rostos percorre a imagem em diferentes escalas para detectar rostos de diferentes tamanhos. Isso é feito usando o conceito de pirâmide de imagens, onde a imagem original é redimensionada em diferentes tamanhos e as detecções são realizadas em cada escala. Cada classificador é uma combinação linear de características, e a saída de cada classificador é passada para o próximo na cascata. A cascata é projetada para ser eficiente, descartando rapidamente as regiões que provavelmente não contêm rostos, reduzindo assim a quantidade de processamento necessário.\n",
    "4- Excluir falsos positivos\n",
    "    Após a detecção inicial, são aplicados critérios adicionais para filtrar possíveis falsos positivos, como a verificação da sobreposição entre as detecções, assim descartando detecções muito pequenas ou muito grandes.\n",
    "5- Desenho de retangulos\n",
    "    Após a detecção e filtragem, os retângulos delimitadores são desenhados nas regiões da imagem onde foram identificados rostos. Isso é feito usando a função cv2.rectangle() do OpenCV, que recebe as coordenadas do retângulo e assim é feito um retangula na imagem se saída que é exibida com a função cv2.imshow()."
   ]
  },
  {
   "cell_type": "code",
   "execution_count": 20,
   "metadata": {},
   "outputs": [],
   "source": [
    "import cv2\n",
    "\n",
    "imagem = cv2.imread('imagem.jpg')\n",
    "imagem_cinza = cv2.cvtColor(imagem, cv2.COLOR_BGR2GRAY)\n",
    "classificador_rosto = cv2.CascadeClassifier('haarcascade_frontalface_default.xml')\n",
    "faces = classificador_rosto.detectMultiScale(imagem_cinza, scaleFactor=1.1, minNeighbors=5, minSize=(30, 30))\n",
    "\n",
    "for (x, y, w, h) in faces:\n",
    "    cv2.rectangle(imagem, (x, y), (x+w, y+h), (0, 255, 0), 2)\n",
    "\n",
    "cv2.imshow('Rostos Detectados', imagem)\n",
    "cv2.waitKey(0)\n",
    "cv2.destroyAllWindows()"
   ]
  }
 ],
 "metadata": {
  "anaconda-cloud": {},
  "colab": {
   "name": "03-Filtros-Frequencia-scikit-image-para-alunos.ipynb",
   "provenance": []
  },
  "interpreter": {
   "hash": "81794d4967e6c3204c66dcd87b604927b115b27c00565d3d43f05ba2f3a2cb0d"
  },
  "kernelspec": {
   "display_name": "Python 3 (ipykernel)",
   "language": "python",
   "name": "python3"
  },
  "language_info": {
   "codemirror_mode": {
    "name": "ipython",
    "version": 3
   },
   "file_extension": ".py",
   "mimetype": "text/x-python",
   "name": "python",
   "nbconvert_exporter": "python",
   "pygments_lexer": "ipython3",
   "version": "3.11.0"
  }
 },
 "nbformat": 4,
 "nbformat_minor": 2
}
